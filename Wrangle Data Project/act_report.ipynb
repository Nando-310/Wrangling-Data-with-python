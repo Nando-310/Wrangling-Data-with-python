{
 "cells": [
  {
   "cell_type": "markdown",
   "metadata": {},
   "source": [
    "## Report: act_report\n",
    "* Create a **250-word-minimum written report** called \"act_report.pdf\" or \"act_report.html\" that communicates the insights and displays the visualization(s) produced from your wrangled data. This is to be framed as an external document, like a blog post or magazine article, for example."
   ]
  },
  {
   "cell_type": "markdown",
   "metadata": {},
   "source": [
    "# WeRateDogs "
   ]
  },
  {
   "cell_type": "markdown",
   "metadata": {},
   "source": [
    "### Data wrangling project by Fernando Moreno"
   ]
  },
  {
   "cell_type": "markdown",
   "metadata": {},
   "source": [
    "#### We found the most common dog names!!\n",
    "\n",
    "WeRateDogs is a funny twitter page that is serious about rating Doggos, Puppers, Floofer and Puppos. Anyone can post pictures of their favorite dogs and ratings for these dogs. We wanted to analyze this twitter page to see which names were the most popular and other facts we could find from our data. Amongst the top names was Cooper, Just, Loki, and Sampson."
   ]
  },
  {
   "cell_type": "markdown",
   "metadata": {},
   "source": [
    "<img src='names.png'/>"
   ]
  },
  {
   "cell_type": "markdown",
   "metadata": {},
   "source": [
    "Wrangling data can be tricky and with the right tools and practice can be fun. Utilizing functions such as info() or describe() make it easier and allow an analyst to visually inspect data.\n",
    "\n",
    "Upon inspection i was able to extract plenty of data using wrangling tools. I analyzed the data for any quality issues and tidiness. It is important to have clean data in order to get clean visuals and better understand your data for business decisions or projects. From the WeRateDogs Twitter API I was also able to determine which dog stage was the most popular which turned out to be the Pupper for the Win!!! Pupper beat out Doggo with over 120 tweets.\n"
   ]
  },
  {
   "cell_type": "markdown",
   "metadata": {},
   "source": [
    "<img src='download.png'/>"
   ]
  },
  {
   "cell_type": "markdown",
   "metadata": {},
   "source": [
    "All of this data and the entirety of the project was wrangled and analyzed with Jupyter Notebook. Overall it was a great hands on experience and I enjoyed using the Jupyter Notebook platform for all of my data wrangling. Being new to Data analytics this project was a bit challenging but overall i was able to maneuver through it."
   ]
  },
  {
   "cell_type": "markdown",
   "metadata": {},
   "source": [
    "<img src='https://pbs.twimg.com/media/Cswbc2yWcAAVsCJ.jpg'/>"
   ]
  },
  {
   "cell_type": "markdown",
   "metadata": {},
   "source": [
    "Through wrangling and cleaning data we were also able to find that the top Rated dog was Sophie scoring 27 as an awesome pupper. Combining my knowledge, new found skills, and love for dogs I completed this project and it felt great I now have a deeper understanding of the importance of properly cleaning and analyzing data sets and combining them to gain a better perspective."
   ]
  },
  {
   "cell_type": "markdown",
   "metadata": {},
   "source": []
  },
  {
   "cell_type": "markdown",
   "metadata": {},
   "source": []
  },
  {
   "cell_type": "markdown",
   "metadata": {},
   "source": [
    "![](sadie.png)"
   ]
  }
 ],
 "metadata": {
  "kernelspec": {
   "display_name": "Python 3",
   "language": "python",
   "name": "python3"
  },
  "language_info": {
   "codemirror_mode": {
    "name": "ipython",
    "version": 3
   },
   "file_extension": ".py",
   "mimetype": "text/x-python",
   "name": "python",
   "nbconvert_exporter": "python",
   "pygments_lexer": "ipython3",
   "version": "3.6.3"
  }
 },
 "nbformat": 4,
 "nbformat_minor": 2
}
